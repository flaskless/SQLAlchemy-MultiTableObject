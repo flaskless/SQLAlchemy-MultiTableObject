{
 "cells": [
  {
   "cell_type": "markdown",
   "metadata": {},
   "source": [
    "User Database - Simple Test\n",
    "==========================="
   ]
  },
  {
   "cell_type": "code",
   "execution_count": 1,
   "metadata": {
    "collapsed": true
   },
   "outputs": [],
   "source": [
    "from sqlalchemy import Table, Column, Integer, String, DateTime, MetaData, join, ForeignKey, create_engine\n",
    "from sqlalchemy.ext.declarative import declarative_base\n",
    "from sqlalchemy.orm import column_property, sessionmaker"
   ]
  },
  {
   "cell_type": "code",
   "execution_count": 2,
   "metadata": {
    "collapsed": true
   },
   "outputs": [],
   "source": [
    "metadata = MetaData()"
   ]
  },
  {
   "cell_type": "code",
   "execution_count": 3,
   "metadata": {
    "collapsed": false
   },
   "outputs": [],
   "source": [
    "user_table = Table('user', metadata,\n",
    "                  Column('id', Integer, primary_key=True),\n",
    "                  Column('name', String)\n",
    "            )\n",
    "address_table = Table('address', metadata,\n",
    "                Column('id', Integer, primary_key = True),\n",
    "                Column('user_id', Integer, ForeignKey('user.id')),\n",
    "                Column('email_address', String)\n",
    "            )"
   ]
  },
  {
   "cell_type": "code",
   "execution_count": 4,
   "metadata": {
    "collapsed": true
   },
   "outputs": [],
   "source": [
    "user_address_join = join(user_table, address_table)"
   ]
  },
  {
   "cell_type": "code",
   "execution_count": 5,
   "metadata": {
    "collapsed": true
   },
   "outputs": [],
   "source": [
    "engine = create_engine('sqlite:///users.db', echo=True)\n",
    "Base = declarative_base()\n",
    "Session = sessionmaker(bind=engine)"
   ]
  },
  {
   "cell_type": "code",
   "execution_count": 6,
   "metadata": {
    "collapsed": false
   },
   "outputs": [],
   "source": [
    "class AddressUser(Base):\n",
    "    __table__ = user_address_join\n",
    "    \n",
    "    id = column_property(user_table.c.id, address_table.c.user_id)\n",
    "    address_id = address_table.c.id\n",
    "    \n",
    "    def __repr__(self):\n",
    "        return '< AddressUser [{self.name} | {self.email_address}] >'.format(self=self)"
   ]
  },
  {
   "cell_type": "code",
   "execution_count": 7,
   "metadata": {
    "collapsed": false,
    "scrolled": true
   },
   "outputs": [
    {
     "name": "stdout",
     "output_type": "stream",
     "text": [
      "2016-11-12 21:58:06,082 INFO sqlalchemy.engine.base.Engine SELECT CAST('test plain returns' AS VARCHAR(60)) AS anon_1\n",
      "2016-11-12 21:58:06,092 INFO sqlalchemy.engine.base.Engine ()\n",
      "2016-11-12 21:58:06,109 INFO sqlalchemy.engine.base.Engine SELECT CAST('test unicode returns' AS VARCHAR(60)) AS anon_1\n",
      "2016-11-12 21:58:06,157 INFO sqlalchemy.engine.base.Engine ()\n",
      "2016-11-12 21:58:06,164 INFO sqlalchemy.engine.base.Engine PRAGMA table_info(\"user\")\n",
      "2016-11-12 21:58:06,174 INFO sqlalchemy.engine.base.Engine ()\n",
      "2016-11-12 21:58:06,187 INFO sqlalchemy.engine.base.Engine PRAGMA table_info(\"address\")\n",
      "2016-11-12 21:58:06,213 INFO sqlalchemy.engine.base.Engine ()\n",
      "2016-11-12 21:58:06,223 INFO sqlalchemy.engine.base.Engine \n",
      "CREATE TABLE user (\n",
      "\tid INTEGER NOT NULL, \n",
      "\tname VARCHAR, \n",
      "\tPRIMARY KEY (id)\n",
      ")\n",
      "\n",
      "\n",
      "2016-11-12 21:58:06,301 INFO sqlalchemy.engine.base.Engine ()\n",
      "2016-11-12 21:58:06,552 INFO sqlalchemy.engine.base.Engine COMMIT\n",
      "2016-11-12 21:58:06,561 INFO sqlalchemy.engine.base.Engine \n",
      "CREATE TABLE address (\n",
      "\tid INTEGER NOT NULL, \n",
      "\tuser_id INTEGER, \n",
      "\temail_address VARCHAR, \n",
      "\tPRIMARY KEY (id), \n",
      "\tFOREIGN KEY(user_id) REFERENCES user (id)\n",
      ")\n",
      "\n",
      "\n",
      "2016-11-12 21:58:06,581 INFO sqlalchemy.engine.base.Engine ()\n",
      "2016-11-12 21:58:06,717 INFO sqlalchemy.engine.base.Engine COMMIT\n"
     ]
    }
   ],
   "source": [
    "Base.metadata.create_all(engine)\n",
    "metadata.create_all(engine)"
   ]
  },
  {
   "cell_type": "code",
   "execution_count": 8,
   "metadata": {
    "collapsed": true
   },
   "outputs": [],
   "source": [
    "a = AddressUser()\n",
    "a.name = 'John Doe'\n",
    "a.email_address = 'email@address.com'"
   ]
  },
  {
   "cell_type": "code",
   "execution_count": 9,
   "metadata": {
    "collapsed": true
   },
   "outputs": [],
   "source": [
    "b = AddressUser(name='Jane Doe', email_address = 'address@email.com')"
   ]
  },
  {
   "cell_type": "code",
   "execution_count": 10,
   "metadata": {
    "collapsed": false,
    "scrolled": false
   },
   "outputs": [
    {
     "name": "stdout",
     "output_type": "stream",
     "text": [
      "2016-11-12 21:58:18,368 INFO sqlalchemy.engine.base.Engine BEGIN (implicit)\n",
      "2016-11-12 21:58:18,388 INFO sqlalchemy.engine.base.Engine INSERT INTO user (name) VALUES (?)\n",
      "2016-11-12 21:58:18,467 INFO sqlalchemy.engine.base.Engine ('John Doe',)\n",
      "2016-11-12 21:58:18,471 INFO sqlalchemy.engine.base.Engine INSERT INTO user (name) VALUES (?)\n",
      "2016-11-12 21:58:18,476 INFO sqlalchemy.engine.base.Engine ('Jane Doe',)\n",
      "2016-11-12 21:58:18,480 INFO sqlalchemy.engine.base.Engine INSERT INTO address (user_id, email_address) VALUES (?, ?)\n",
      "2016-11-12 21:58:18,592 INFO sqlalchemy.engine.base.Engine (1, 'email@address.com')\n",
      "2016-11-12 21:58:18,599 INFO sqlalchemy.engine.base.Engine INSERT INTO address (user_id, email_address) VALUES (?, ?)\n",
      "2016-11-12 21:58:18,608 INFO sqlalchemy.engine.base.Engine (2, 'address@email.com')\n",
      "2016-11-12 21:58:18,617 INFO sqlalchemy.engine.base.Engine COMMIT\n"
     ]
    }
   ],
   "source": [
    "session = Session()\n",
    "session.add_all([a, b])\n",
    "session.commit()\n",
    "session.close()"
   ]
  },
  {
   "cell_type": "code",
   "execution_count": 11,
   "metadata": {
    "collapsed": false
   },
   "outputs": [],
   "source": [
    "class User(Base):\n",
    "    __table__ = user_table\n",
    "    \n",
    "    def __repr__(self):\n",
    "        return '< User [{}] >'.format(self.name)\n",
    "    \n",
    "class Address(Base):\n",
    "    __table__ = address_table\n",
    "    \n",
    "    def __repr__(self):\n",
    "        return '< Address [{}] >'.format(self.email_address)"
   ]
  },
  {
   "cell_type": "code",
   "execution_count": 12,
   "metadata": {
    "collapsed": false
   },
   "outputs": [],
   "source": [
    "session = Session()"
   ]
  },
  {
   "cell_type": "code",
   "execution_count": 13,
   "metadata": {
    "collapsed": false
   },
   "outputs": [
    {
     "name": "stdout",
     "output_type": "stream",
     "text": [
      "2016-11-12 21:58:31,391 INFO sqlalchemy.engine.base.Engine BEGIN (implicit)\n",
      "2016-11-12 21:58:31,398 INFO sqlalchemy.engine.base.Engine SELECT user.id AS user_id, user.name AS user_name \n",
      "FROM user\n",
      "2016-11-12 21:58:31,430 INFO sqlalchemy.engine.base.Engine ()\n"
     ]
    },
    {
     "data": {
      "text/plain": [
       "[< User [John Doe] >, < User [Jane Doe] >]"
      ]
     },
     "execution_count": 13,
     "metadata": {},
     "output_type": "execute_result"
    }
   ],
   "source": [
    "session.query(User).all()"
   ]
  },
  {
   "cell_type": "code",
   "execution_count": 14,
   "metadata": {
    "collapsed": false
   },
   "outputs": [
    {
     "name": "stdout",
     "output_type": "stream",
     "text": [
      "2016-11-12 21:58:34,691 INFO sqlalchemy.engine.base.Engine SELECT address.id AS address_id, address.user_id AS address_user_id, address.email_address AS address_email_address \n",
      "FROM address\n",
      "2016-11-12 21:58:34,703 INFO sqlalchemy.engine.base.Engine ()\n"
     ]
    },
    {
     "data": {
      "text/plain": [
       "[< Address [email@address.com] >, < Address [address@email.com] >]"
      ]
     },
     "execution_count": 14,
     "metadata": {},
     "output_type": "execute_result"
    }
   ],
   "source": [
    "session.query(Address).all()"
   ]
  },
  {
   "cell_type": "code",
   "execution_count": 15,
   "metadata": {
    "collapsed": false
   },
   "outputs": [
    {
     "name": "stdout",
     "output_type": "stream",
     "text": [
      "2016-11-12 21:58:37,732 INFO sqlalchemy.engine.base.Engine SELECT address.id AS address_id, user.id AS user_id, address.user_id AS address_user_id, user.name AS user_name, address.email_address AS address_email_address \n",
      "FROM user JOIN address ON user.id = address.user_id\n",
      "2016-11-12 21:58:37,815 INFO sqlalchemy.engine.base.Engine ()\n"
     ]
    },
    {
     "data": {
      "text/plain": [
       "[< AddressUser [John Doe | email@address.com] >,\n",
       " < AddressUser [Jane Doe | address@email.com] >]"
      ]
     },
     "execution_count": 15,
     "metadata": {},
     "output_type": "execute_result"
    }
   ],
   "source": [
    "session.query(AddressUser).all()"
   ]
  },
  {
   "cell_type": "code",
   "execution_count": 16,
   "metadata": {
    "collapsed": false
   },
   "outputs": [
    {
     "name": "stdout",
     "output_type": "stream",
     "text": [
      "2016-11-12 21:58:40,928 INFO sqlalchemy.engine.base.Engine ROLLBACK\n"
     ]
    }
   ],
   "source": [
    "session.close()"
   ]
  },
  {
   "cell_type": "markdown",
   "metadata": {},
   "source": [
    " "
   ]
  },
  {
   "cell_type": "markdown",
   "metadata": {},
   "source": [
    " "
   ]
  },
  {
   "cell_type": "markdown",
   "metadata": {},
   "source": [
    " "
   ]
  },
  {
   "cell_type": "markdown",
   "metadata": {},
   "source": [
    "     \n",
    "         \n",
    "             \n",
    "                 \n",
    "                     \n",
    "                         \n",
    "                             \n",
    "  \n",
    "   \n",
    "    \n",
    "     \n",
    "      \n",
    "        \n",
    "         \n",
    "          "
   ]
  },
  {
   "cell_type": "markdown",
   "metadata": {},
   "source": [
    "Letter Database - Complicated Case\n",
    "=================================="
   ]
  },
  {
   "cell_type": "code",
   "execution_count": 1,
   "metadata": {
    "collapsed": false
   },
   "outputs": [],
   "source": [
    "from sqlalchemy import Table, Column, DateTime, Integer, String, MetaData, join, ForeignKey, create_engine\n",
    "from sqlalchemy.ext.declarative import declarative_base\n",
    "from sqlalchemy.orm import column_property, sessionmaker, relationship\n",
    "from datetime import datetime\n",
    "from IPython.display import HTML"
   ]
  },
  {
   "cell_type": "code",
   "execution_count": 2,
   "metadata": {
    "collapsed": true
   },
   "outputs": [],
   "source": [
    "engine = create_engine('sqlite:///letters.db', echo=True)\n",
    "Base = declarative_base()\n",
    "Session = sessionmaker(bind=engine)"
   ]
  },
  {
   "cell_type": "code",
   "execution_count": 3,
   "metadata": {
    "collapsed": false
   },
   "outputs": [],
   "source": [
    "class Department(Base):\n",
    "    __tablename__ = 'departments'\n",
    "    \n",
    "    id = Column(Integer, primary_key=True)\n",
    "    name = Column(String)\n",
    "    \n",
    "    def __init__(self, name, users=None):\n",
    "        self.name = name\n",
    "        self.users = users or []\n",
    "        \n",
    "    def __repr__(self):\n",
    "        return '<Department {}>'.format(self.name)\n",
    "\n",
    "class User(Base):\n",
    "    __tablename__ = 'users'\n",
    "    \n",
    "    id = Column(Integer, primary_key=True)\n",
    "    username = Column(String, unique=True)\n",
    "    email = Column(String)\n",
    "    department_id = Column(Integer, ForeignKey('departments.id'))\n",
    "    department = relationship('Department', backref='users')\n",
    "    \n",
    "    def __init__(self, username, email, department):\n",
    "        self.username, self.email, self.department = username, email, department\n",
    "        \n",
    "    def __repr__(self):\n",
    "        return '<User {s.username} | {s.email} | {s.department}>'.format(s=self)\n",
    "    \n",
    "class Letter(Base):\n",
    "    __tablename__ = 'letter'\n",
    "    \n",
    "    id = Column(Integer, primary_key=True)\n",
    "    title = Column(String)\n",
    "    description = Column(String)\n",
    "    from_id = Column(Integer, ForeignKey('users.id'))\n",
    "    from_user = relationship('User', foreign_keys=[from_id])\n",
    "    to_id = Column(Integer, ForeignKey('users.id'))\n",
    "    to_user = relationship('User', foreign_keys=[to_id])\n",
    "    datetime = Column(DateTime)\n",
    "    \n",
    "    def __init__(self, title, description, from_user, to_user, datetime):\n",
    "        self.title, self.description = title, description\n",
    "        self.from_user, self.to_user = from_user, to_user\n",
    "        self.datetime = datetime\n",
    "        \n",
    "    def __repr__(self):\n",
    "        return '''[ Letter: {s.title} \n",
    "From: {f.username} ({f.email})\n",
    "To: {t.username} ({t.email})\n",
    "Time: {s.datetime}\n",
    "\n",
    "{s.description}]'''.format(s=self, f=self.from_user, t=self.to_user)"
   ]
  },
  {
   "cell_type": "code",
   "execution_count": 4,
   "metadata": {
    "collapsed": false
   },
   "outputs": [],
   "source": [
    "user_table, letter_table, dep_table = User.__table__, Letter.__table__, Department.__table__\n",
    "from_user_table = user_table.alias('from_user')\n",
    "to_user_table = user_table.alias('to_user')\n",
    "from_join = join(letter_table, from_user_table, from_user_table.c.id == letter_table.c.from_id)\n",
    "letter_join = join(from_join, to_user_table, to_user_table.c.id == from_join.c.letter_from_id)"
   ]
  },
  {
   "cell_type": "code",
   "execution_count": 5,
   "metadata": {
    "collapsed": false,
    "scrolled": true
   },
   "outputs": [
    {
     "data": {
      "text/plain": [
       "[('letter_id',\n",
       "  Column('id', Integer(), table=<letter>, key='letter_id', primary_key=True, nullable=False)),\n",
       " ('letter_title',\n",
       "  Column('title', String(), table=<letter>, key='letter_title')),\n",
       " ('letter_description',\n",
       "  Column('description', String(), table=<letter>, key='letter_description')),\n",
       " ('letter_from_id',\n",
       "  Column('from_id', Integer(), ForeignKey('users.id'), table=<letter>, key='letter_from_id')),\n",
       " ('letter_to_id',\n",
       "  Column('to_id', Integer(), ForeignKey('users.id'), table=<letter>, key='letter_to_id')),\n",
       " ('letter_datetime',\n",
       "  Column('datetime', DateTime(), table=<letter>, key='letter_datetime')),\n",
       " ('from_user_id',\n",
       "  Column('id', Integer(), table=<from_user>, key='from_user_id', primary_key=True, nullable=False)),\n",
       " ('from_user_username',\n",
       "  Column('username', String(), table=<from_user>, key='from_user_username')),\n",
       " ('from_user_email',\n",
       "  Column('email', String(), table=<from_user>, key='from_user_email')),\n",
       " ('from_user_department_id',\n",
       "  Column('department_id', Integer(), ForeignKey(u'departments.id'), table=<from_user>, key='from_user_department_id')),\n",
       " ('to_user_id',\n",
       "  Column('id', Integer(), table=<to_user>, key='to_user_id', primary_key=True, nullable=False)),\n",
       " ('to_user_username',\n",
       "  Column('username', String(), table=<to_user>, key='to_user_username')),\n",
       " ('to_user_email',\n",
       "  Column('email', String(), table=<to_user>, key='to_user_email')),\n",
       " ('to_user_department_id',\n",
       "  Column('department_id', Integer(), ForeignKey(u'departments.id'), table=<to_user>, key='to_user_department_id'))]"
      ]
     },
     "execution_count": 5,
     "metadata": {},
     "output_type": "execute_result"
    }
   ],
   "source": [
    "for col_name, col in letter_join.c.items():\n",
    "    col.key = col_name\n",
    "\n",
    "letter_join.c.items()"
   ]
  },
  {
   "cell_type": "code",
   "execution_count": 6,
   "metadata": {
    "collapsed": false
   },
   "outputs": [],
   "source": [
    "class LetterDetail(Base):\n",
    "    __table__ = letter_join\n",
    "    __table__.columns = letter_join.columns\n",
    "    \n",
    "    id = column_property(letter_table.c.id)\n",
    "    from_department = User.department\n",
    "    to_department = User.department\n",
    "    \n",
    "    def _repr_html_(self):\n",
    "        headers = '<tr><th>{}</th></tr>'.format('</th><th>'.join([i[0] for i in self.__table__.columns]))\n",
    "        details = '<tr><td>{}</td></tr>'.format('</td><td>'.join(getattr(self, i[0]) for i in self.__table__.columns))\n",
    "        return '<table>{}{}</table>'.format(headers, details)"
   ]
  },
  {
   "cell_type": "code",
   "execution_count": 7,
   "metadata": {
    "collapsed": false,
    "scrolled": true
   },
   "outputs": [
    {
     "name": "stdout",
     "output_type": "stream",
     "text": [
      "2016-11-12 22:00:10,701 INFO sqlalchemy.engine.base.Engine SELECT CAST('test plain returns' AS VARCHAR(60)) AS anon_1\n",
      "2016-11-12 22:00:10,710 INFO sqlalchemy.engine.base.Engine ()\n",
      "2016-11-12 22:00:10,723 INFO sqlalchemy.engine.base.Engine SELECT CAST('test unicode returns' AS VARCHAR(60)) AS anon_1\n",
      "2016-11-12 22:00:10,743 INFO sqlalchemy.engine.base.Engine ()\n",
      "2016-11-12 22:00:10,756 INFO sqlalchemy.engine.base.Engine PRAGMA table_info(\"letter\")\n",
      "2016-11-12 22:00:10,770 INFO sqlalchemy.engine.base.Engine ()\n",
      "2016-11-12 22:00:10,809 INFO sqlalchemy.engine.base.Engine PRAGMA table_info(\"users\")\n",
      "2016-11-12 22:00:10,815 INFO sqlalchemy.engine.base.Engine ()\n",
      "2016-11-12 22:00:10,819 INFO sqlalchemy.engine.base.Engine PRAGMA table_info(\"departments\")\n",
      "2016-11-12 22:00:10,828 INFO sqlalchemy.engine.base.Engine ()\n",
      "2016-11-12 22:00:10,842 INFO sqlalchemy.engine.base.Engine \n",
      "CREATE TABLE departments (\n",
      "\tid INTEGER NOT NULL, \n",
      "\tname VARCHAR, \n",
      "\tPRIMARY KEY (id)\n",
      ")\n",
      "\n",
      "\n",
      "2016-11-12 22:00:10,867 INFO sqlalchemy.engine.base.Engine ()\n",
      "2016-11-12 22:00:11,153 INFO sqlalchemy.engine.base.Engine COMMIT\n",
      "2016-11-12 22:00:11,161 INFO sqlalchemy.engine.base.Engine \n",
      "CREATE TABLE users (\n",
      "\tid INTEGER NOT NULL, \n",
      "\tusername VARCHAR, \n",
      "\temail VARCHAR, \n",
      "\tdepartment_id INTEGER, \n",
      "\tPRIMARY KEY (id), \n",
      "\tUNIQUE (username), \n",
      "\tFOREIGN KEY(department_id) REFERENCES departments (id)\n",
      ")\n",
      "\n",
      "\n",
      "2016-11-12 22:00:11,168 INFO sqlalchemy.engine.base.Engine ()\n",
      "2016-11-12 22:00:11,318 INFO sqlalchemy.engine.base.Engine COMMIT\n",
      "2016-11-12 22:00:11,322 INFO sqlalchemy.engine.base.Engine \n",
      "CREATE TABLE letter (\n",
      "\tid INTEGER NOT NULL, \n",
      "\ttitle VARCHAR, \n",
      "\tdescription VARCHAR, \n",
      "\tfrom_id INTEGER, \n",
      "\tto_id INTEGER, \n",
      "\tdatetime DATETIME, \n",
      "\tPRIMARY KEY (id), \n",
      "\tFOREIGN KEY(from_id) REFERENCES users (id), \n",
      "\tFOREIGN KEY(to_id) REFERENCES users (id)\n",
      ")\n",
      "\n",
      "\n",
      "2016-11-12 22:00:11,332 INFO sqlalchemy.engine.base.Engine ()\n",
      "2016-11-12 22:00:11,562 INFO sqlalchemy.engine.base.Engine COMMIT\n"
     ]
    }
   ],
   "source": [
    "Base.metadata.create_all(engine)"
   ]
  },
  {
   "cell_type": "code",
   "execution_count": 8,
   "metadata": {
    "collapsed": false,
    "scrolled": true
   },
   "outputs": [],
   "source": [
    "d1 = Department('Customer Relations')\n",
    "d2 = Department('Human Resources')\n",
    "john = User('john_doe', 'john@email.com', d1)\n",
    "jane = User('jane_doe', 'jane@email.com', d2)\n",
    "letter = Letter('Hello World', 'This is a test letter.\\nHELLO WORLD!\\n:)', john, jane, datetime.now())"
   ]
  },
  {
   "cell_type": "code",
   "execution_count": 9,
   "metadata": {
    "collapsed": false,
    "scrolled": true
   },
   "outputs": [
    {
     "name": "stdout",
     "output_type": "stream",
     "text": [
      "2016-11-12 22:00:14,608 INFO sqlalchemy.engine.base.Engine BEGIN (implicit)\n",
      "2016-11-12 22:00:14,614 INFO sqlalchemy.engine.base.Engine INSERT INTO departments (name) VALUES (?)\n",
      "2016-11-12 22:00:14,622 INFO sqlalchemy.engine.base.Engine ('Customer Relations',)\n",
      "2016-11-12 22:00:14,637 INFO sqlalchemy.engine.base.Engine INSERT INTO departments (name) VALUES (?)\n",
      "2016-11-12 22:00:14,644 INFO sqlalchemy.engine.base.Engine ('Human Resources',)\n",
      "2016-11-12 22:00:14,648 INFO sqlalchemy.engine.base.Engine INSERT INTO users (username, email, department_id) VALUES (?, ?, ?)\n",
      "2016-11-12 22:00:14,653 INFO sqlalchemy.engine.base.Engine ('john_doe', 'john@email.com', 1)\n",
      "2016-11-12 22:00:14,661 INFO sqlalchemy.engine.base.Engine INSERT INTO users (username, email, department_id) VALUES (?, ?, ?)\n",
      "2016-11-12 22:00:14,670 INFO sqlalchemy.engine.base.Engine ('jane_doe', 'jane@email.com', 2)\n",
      "2016-11-12 22:00:14,690 INFO sqlalchemy.engine.base.Engine INSERT INTO letter (title, description, from_id, to_id, datetime) VALUES (?, ?, ?, ?, ?)\n",
      "2016-11-12 22:00:14,716 INFO sqlalchemy.engine.base.Engine ('Hello World', 'This is a test letter.\\nHELLO WORLD!\\n:)', 1, 2, '2016-11-12 22:00:14.015000')\n",
      "2016-11-12 22:00:14,734 INFO sqlalchemy.engine.base.Engine COMMIT\n"
     ]
    }
   ],
   "source": [
    "session = Session()\n",
    "session.add_all([d1, d2, john, jane, letter])\n",
    "session.commit()\n",
    "session.close()"
   ]
  },
  {
   "cell_type": "code",
   "execution_count": 10,
   "metadata": {
    "collapsed": true
   },
   "outputs": [],
   "source": [
    "session = Session()"
   ]
  },
  {
   "cell_type": "code",
   "execution_count": 11,
   "metadata": {
    "collapsed": false
   },
   "outputs": [
    {
     "name": "stdout",
     "output_type": "stream",
     "text": [
      "2016-11-12 22:00:17,584 INFO sqlalchemy.engine.base.Engine BEGIN (implicit)\n",
      "2016-11-12 22:00:17,589 INFO sqlalchemy.engine.base.Engine SELECT departments.id AS departments_id, departments.name AS departments_name \n",
      "FROM departments\n",
      "2016-11-12 22:00:17,592 INFO sqlalchemy.engine.base.Engine ()\n"
     ]
    },
    {
     "data": {
      "text/plain": [
       "[<Department Customer Relations>, <Department Human Resources>]"
      ]
     },
     "execution_count": 11,
     "metadata": {},
     "output_type": "execute_result"
    }
   ],
   "source": [
    "session.query(Department).all()"
   ]
  },
  {
   "cell_type": "code",
   "execution_count": 12,
   "metadata": {
    "collapsed": false
   },
   "outputs": [
    {
     "name": "stdout",
     "output_type": "stream",
     "text": [
      "2016-11-12 22:00:19,855 INFO sqlalchemy.engine.base.Engine SELECT users.id AS users_id, users.username AS users_username, users.email AS users_email, users.department_id AS users_department_id \n",
      "FROM users\n",
      "2016-11-12 22:00:19,864 INFO sqlalchemy.engine.base.Engine ()\n"
     ]
    },
    {
     "data": {
      "text/plain": [
       "[<User john_doe | john@email.com | <Department Customer Relations>>,\n",
       " <User jane_doe | jane@email.com | <Department Human Resources>>]"
      ]
     },
     "execution_count": 12,
     "metadata": {},
     "output_type": "execute_result"
    }
   ],
   "source": [
    "session.query(User).all()"
   ]
  },
  {
   "cell_type": "code",
   "execution_count": 13,
   "metadata": {
    "collapsed": false
   },
   "outputs": [
    {
     "name": "stdout",
     "output_type": "stream",
     "text": [
      "2016-11-12 22:00:21,892 INFO sqlalchemy.engine.base.Engine SELECT letter.id AS letter_id, letter.title AS letter_title, letter.description AS letter_description, letter.from_id AS letter_from_id, letter.to_id AS letter_to_id, letter.datetime AS letter_datetime \n",
      "FROM letter\n",
      "2016-11-12 22:00:21,926 INFO sqlalchemy.engine.base.Engine ()\n"
     ]
    },
    {
     "data": {
      "text/plain": [
       "[[ Letter: Hello World \n",
       " From: john_doe (john@email.com)\n",
       " To: jane_doe (jane@email.com)\n",
       " Time: 2016-11-12 22:00:14.015000\n",
       " \n",
       " This is a test letter.\n",
       " HELLO WORLD!\n",
       " :)]]"
      ]
     },
     "execution_count": 13,
     "metadata": {},
     "output_type": "execute_result"
    }
   ],
   "source": [
    "session.query(Letter).all()"
   ]
  },
  {
   "cell_type": "code",
   "execution_count": 14,
   "metadata": {
    "collapsed": false
   },
   "outputs": [
    {
     "name": "stdout",
     "output_type": "stream",
     "text": [
      "2016-11-12 22:00:32,325 INFO sqlalchemy.engine.base.Engine SELECT letter.id AS letter_id, letter.title AS letter_title, letter.description AS letter_description, letter.from_id AS letter_from_id, letter.to_id AS letter_to_id, letter.datetime AS letter_datetime, from_user.id AS from_user_id, from_user.username AS from_user_username, from_user.email AS from_user_email, from_user.department_id AS from_user_department_id, to_user.id AS to_user_id, to_user.username AS to_user_username, to_user.email AS to_user_email, to_user.department_id AS to_user_department_id \n",
      "FROM letter JOIN users AS from_user ON from_user.id = letter.from_id JOIN users AS to_user ON to_user.id = letter.from_id\n",
      "2016-11-12 22:00:32,342 INFO sqlalchemy.engine.base.Engine ()\n"
     ]
    },
    {
     "data": {
      "text/plain": [
       "[<__main__.LetterDetail at 0x4b09bd0>]"
      ]
     },
     "execution_count": 14,
     "metadata": {},
     "output_type": "execute_result"
    }
   ],
   "source": [
    "session.query(LetterDetail).all()"
   ]
  },
  {
   "cell_type": "code",
   "execution_count": 15,
   "metadata": {
    "collapsed": false,
    "scrolled": true
   },
   "outputs": [
    {
     "name": "stdout",
     "output_type": "stream",
     "text": [
      "2016-11-12 22:00:34,036 INFO sqlalchemy.engine.base.Engine SELECT letter.id AS letter_id, letter.title AS letter_title, letter.description AS letter_description, letter.from_id AS letter_from_id, letter.to_id AS letter_to_id, letter.datetime AS letter_datetime, from_user.id AS from_user_id, from_user.username AS from_user_username, from_user.email AS from_user_email, from_user.department_id AS from_user_department_id, to_user.id AS to_user_id, to_user.username AS to_user_username, to_user.email AS to_user_email, to_user.department_id AS to_user_department_id \n",
      "FROM letter JOIN users AS from_user ON from_user.id = letter.from_id JOIN users AS to_user ON to_user.id = letter.from_id \n",
      "WHERE letter.title = ?\n",
      "2016-11-12 22:00:34,145 INFO sqlalchemy.engine.base.Engine ('Hello World',)\n"
     ]
    },
    {
     "data": {
      "text/plain": [
       "[<__main__.LetterDetail at 0x4b09bd0>]"
      ]
     },
     "execution_count": 15,
     "metadata": {},
     "output_type": "execute_result"
    }
   ],
   "source": [
    "session.query(LetterDetail).filter_by(letter_title='Hello World').all()"
   ]
  },
  {
   "cell_type": "code",
   "execution_count": 16,
   "metadata": {
    "collapsed": false
   },
   "outputs": [
    {
     "name": "stdout",
     "output_type": "stream",
     "text": [
      "2016-11-12 22:00:35,753 INFO sqlalchemy.engine.base.Engine SELECT letter.id AS letter_id, letter.title AS letter_title, letter.description AS letter_description, letter.from_id AS letter_from_id, letter.to_id AS letter_to_id, letter.datetime AS letter_datetime, from_user.id AS from_user_id, from_user.username AS from_user_username, from_user.email AS from_user_email, from_user.department_id AS from_user_department_id, to_user.id AS to_user_id, to_user.username AS to_user_username, to_user.email AS to_user_email, to_user.department_id AS to_user_department_id \n",
      "FROM letter JOIN users AS from_user ON from_user.id = letter.from_id JOIN users AS to_user ON to_user.id = letter.from_id \n",
      "WHERE from_user.email = ?\n",
      "2016-11-12 22:00:35,811 INFO sqlalchemy.engine.base.Engine ('john@email.com',)\n"
     ]
    },
    {
     "data": {
      "text/plain": [
       "[<__main__.LetterDetail at 0x4b09bd0>]"
      ]
     },
     "execution_count": 16,
     "metadata": {},
     "output_type": "execute_result"
    }
   ],
   "source": [
    "session.query(LetterDetail).filter_by(from_user_email='john@email.com').all()"
   ]
  },
  {
   "cell_type": "code",
   "execution_count": 17,
   "metadata": {
    "collapsed": false
   },
   "outputs": [
    {
     "name": "stdout",
     "output_type": "stream",
     "text": [
      "2016-11-12 22:00:38,618 INFO sqlalchemy.engine.base.Engine ROLLBACK\n"
     ]
    }
   ],
   "source": [
    "session.close()"
   ]
  }
 ],
 "metadata": {
  "kernelspec": {
   "display_name": "Python 2",
   "language": "python",
   "name": "python2"
  },
  "language_info": {
   "codemirror_mode": {
    "name": "ipython",
    "version": 2
   },
   "file_extension": ".py",
   "mimetype": "text/x-python",
   "name": "python",
   "nbconvert_exporter": "python",
   "pygments_lexer": "ipython2",
   "version": "2.7.11"
  }
 },
 "nbformat": 4,
 "nbformat_minor": 1
}
